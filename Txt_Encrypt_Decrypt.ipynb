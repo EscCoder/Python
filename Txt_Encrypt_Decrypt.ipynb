{
  "nbformat": 4,
  "nbformat_minor": 0,
  "metadata": {
    "colab": {
      "provenance": [],
      "authorship_tag": "ABX9TyNalJhfduJucrbjsdef7Lk/",
      "include_colab_link": true
    },
    "kernelspec": {
      "name": "python3",
      "display_name": "Python 3"
    },
    "language_info": {
      "name": "python"
    }
  },
  "cells": [
    {
      "cell_type": "markdown",
      "metadata": {
        "id": "view-in-github",
        "colab_type": "text"
      },
      "source": [
        "<a href=\"https://colab.research.google.com/github/EscCoder/Python/blob/main/Txt_Encrypt_Decrypt.ipynb\" target=\"_parent\"><img src=\"https://colab.research.google.com/assets/colab-badge.svg\" alt=\"Open In Colab\"/></a>"
      ]
    },
    {
      "cell_type": "markdown",
      "source": [
        "Substitution Cypher Encryption and Decryption"
      ],
      "metadata": {
        "id": "EMWWulyXFyWH"
      }
    },
    {
      "cell_type": "code",
      "execution_count": null,
      "metadata": {
        "id": "2CWxoQg-AW3s"
      },
      "outputs": [],
      "source": [
        "import random\n",
        "import string"
      ]
    },
    {
      "cell_type": "code",
      "source": [
        "chars = list (string.punctuation + string.digits + string.ascii_letters + \" \")\n",
        "print(\"Chars :\",chars)"
      ],
      "metadata": {
        "colab": {
          "base_uri": "https://localhost:8080/"
        },
        "id": "czF1uE0QA038",
        "outputId": "4df3e871-8fe6-4802-dd4d-c5dc57227701"
      },
      "execution_count": null,
      "outputs": [
        {
          "output_type": "stream",
          "name": "stdout",
          "text": [
            "Chars : ['!', '\"', '#', '$', '%', '&', \"'\", '(', ')', '*', '+', ',', '-', '.', '/', ':', ';', '<', '=', '>', '?', '@', '[', '\\\\', ']', '^', '_', '`', '{', '|', '}', '~', '0', '1', '2', '3', '4', '5', '6', '7', '8', '9', 'a', 'b', 'c', 'd', 'e', 'f', 'g', 'h', 'i', 'j', 'k', 'l', 'm', 'n', 'o', 'p', 'q', 'r', 's', 't', 'u', 'v', 'w', 'x', 'y', 'z', 'A', 'B', 'C', 'D', 'E', 'F', 'G', 'H', 'I', 'J', 'K', 'L', 'M', 'N', 'O', 'P', 'Q', 'R', 'S', 'T', 'U', 'V', 'W', 'X', 'Y', 'Z', ' ']\n"
          ]
        }
      ]
    },
    {
      "cell_type": "code",
      "source": [
        "keys = list(chars.copy())\n",
        "random.shuffle(keys)\n",
        "print(\"Keys : \",keys)"
      ],
      "metadata": {
        "colab": {
          "base_uri": "https://localhost:8080/"
        },
        "id": "xKb1ZM-UBPGt",
        "outputId": "bb785ade-68c0-4e61-c91b-2bbfb7a83450"
      },
      "execution_count": null,
      "outputs": [
        {
          "output_type": "stream",
          "name": "stdout",
          "text": [
            "Keys :  ['n', '~', 'x', 'I', '#', '%', 'p', '*', 'k', ':', '6', 'q', 'U', '{', 'h', '5', '0', 'b', ';', 'y', 'w', '>', 'V', '<', 's', '8', 'G', '$', '9', ' ', 'A', '@', '3', '7', 'W', 'C', '[', 'S', 'B', 'c', 'o', 'z', 'Y', 'J', 'v', 'j', '_', 'Q', '/', 'm', 'a', '+', 'f', 'Z', '`', 'H', '\\\\', 'D', 'u', 't', ')', 'e', 'd', '^', 'N', 'X', 'R', \"'\", '4', 'g', '|', ',', '1', '=', 'i', 'O', 'F', '?', 'L', '!', '&', 'T', '.', 'M', '2', 'r', 'E', 'K', '}', '\"', 'l', '-', ']', 'P', '(']\n"
          ]
        }
      ]
    },
    {
      "cell_type": "code",
      "source": [
        "#Encryption\n",
        "plain_text = input(\"Enter a message to encrypt: \")\n",
        "cipher_text = \" \"\n",
        "\n",
        "for letter in plain_text:\n",
        "  index = chars.index(letter)\n",
        "  cipher_text += keys[index]\n",
        "\n",
        "print(\"Original Message : \",plain_text)\n",
        "print(\"Encrypted Message: \",cipher_text)"
      ],
      "metadata": {
        "colab": {
          "base_uri": "https://localhost:8080/"
        },
        "id": "tQdno98UCRTx",
        "outputId": "ab50989d-9240-416d-9430-78374f0f14b1"
      },
      "execution_count": null,
      "outputs": [
        {
          "output_type": "stream",
          "name": "stdout",
          "text": [
            "Enter a message to encrypt: Hello pallavi\n",
            "Original Message :  Hello pallavi\n",
            "Encrypted Message:   O_ZZ\\(DYZZY^a\n"
          ]
        }
      ]
    },
    {
      "cell_type": "code",
      "source": [
        "#Decryption\n",
        "cipher_text = input(\"Enter a message to decrypt: \")\n",
        "plain_text = \" \"\n",
        "\n",
        "for letter in cipher_text:\n",
        "  index = keys.index(letter)\n",
        "  plain_text += chars[index]\n",
        "\n",
        "print(\"Original Message : \",cipher_text)\n",
        "print(\"Decrypted Message: \",plain_text)"
      ],
      "metadata": {
        "colab": {
          "base_uri": "https://localhost:8080/"
        },
        "id": "zyu4ezUNDV77",
        "outputId": "0d594797-cf37-43c3-efb5-bb97a26b29f5"
      },
      "execution_count": null,
      "outputs": [
        {
          "output_type": "stream",
          "name": "stdout",
          "text": [
            "Enter a message to decrypt: O_ZZ\\(DYZZY^a\n",
            "Original Message :  O_ZZ\\(DYZZY^a\n",
            "Decrypted Message:   Hello pallavi\n"
          ]
        }
      ]
    }
  ]
}